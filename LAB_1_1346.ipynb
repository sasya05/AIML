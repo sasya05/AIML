{
  "nbformat": 4,
  "nbformat_minor": 0,
  "metadata": {
    "colab": {
      "provenance": [],
      "authorship_tag": "ABX9TyMyfKfjn1zXJuzi9GerozH6",
      "include_colab_link": true
    },
    "kernelspec": {
      "name": "python3",
      "display_name": "Python 3"
    },
    "language_info": {
      "name": "python"
    }
  },
  "cells": [
    {
      "cell_type": "markdown",
      "metadata": {
        "id": "view-in-github",
        "colab_type": "text"
      },
      "source": [
        "<a href=\"https://colab.research.google.com/github/sasya05/AIML/blob/main/LAB_1_1346.ipynb\" target=\"_parent\"><img src=\"https://colab.research.google.com/assets/colab-badge.svg\" alt=\"Open In Colab\"/></a>"
      ]
    },
    {
      "cell_type": "code",
      "execution_count": null,
      "metadata": {
        "colab": {
          "base_uri": "https://localhost:8080/"
        },
        "id": "JhrF_xtIr8B9",
        "outputId": "94690549-63af-4a26-9941-20b1223e0b20"
      },
      "outputs": [
        {
          "output_type": "stream",
          "name": "stdout",
          "text": [
            "list= ['sasya', 'nithya']\n",
            "Array= [1 2 3 4 5 5]\n",
            "arr[0]= 1\n",
            "arr[1]= 2\n",
            "arr[2]= 3\n",
            "arr[3]= 4\n",
            "arr[4]= 5\n",
            "<class 'list'>\n",
            "<class 'numpy.ndarray'>\n",
            "Multiplication= [ 4 10 18]\n",
            "division= [0.25 0.4  0.5 ]\n",
            "Power= [  1  32 729]\n",
            "Addition= [ 8 10 12]\n",
            "sin(0.7853981633974483) = 0.7071067811865475\n",
            "log(10) = 2.302585092994046\n",
            "log2(10) = 3.321928094887362\n",
            "exp(2) = 7.38905609893065\n"
          ]
        }
      ],
      "source": [
        "import numpy as np\n",
        "list=['sasya','nithya']\n",
        "print(\"list=\",list)\n",
        "arr=np.array([ 1,2,3,4,5,5])\n",
        "print(\"Array=\",arr)\n",
        "print(\"arr[0]=\",arr[0])\n",
        "print(\"arr[1]=\",arr[1])\n",
        "print(\"arr[2]=\",arr[2])\n",
        "print(\"arr[3]=\",arr[3])\n",
        "print(\"arr[4]=\",arr[4])\n",
        "print(type(list))\n",
        "print(type(arr))\n",
        "dataset1=np.array([1,2,3])\n",
        "dataset2=np.array([4,5,6])\n",
        "mul=dataset1*dataset2\n",
        "print(\"Multiplication=\",mul)\n",
        "div=dataset1/dataset2\n",
        "print(\"division=\",div)\n",
        "power=dataset1**dataset2\n",
        "print(\"Power=\",power)\n",
        "arr1=np.array([1,2,3])\n",
        "arr2=np.array([7,8,9])\n",
        "add=arr1+arr2\n",
        "print(\"Addition=\",add)\n",
        "def sin(x):\n",
        "    return math.sin(x)\n",
        "def log(x, base=math.e):\n",
        "    return math.log(x, base)\n",
        "def log2(x):\n",
        "    return math.log2(x)\n",
        "def exp(x):\n",
        "    return math.exp(x)\n",
        "angle_in_radians = math.pi / 4\n",
        "print(f\"sin({angle_in_radians}) = {sin(angle_in_radians)}\")\n",
        "value = 10\n",
        "print(f\"log({value}) = {log(value)}\")\n",
        "print(f\"log2({value}) = {log2(value)}\")\n",
        "exponent = 2\n",
        "print(f\"exp({exponent}) = {exp(exponent)}\")"
      ]
    }
  ]
}